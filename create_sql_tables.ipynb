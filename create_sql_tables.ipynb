{
 "cells": [
  {
   "cell_type": "code",
   "execution_count": null,
   "id": "0393090c",
   "metadata": {},
   "outputs": [],
   "source": [
    "from sql_setup import sqlConnection"
   ]
  },
  {
   "cell_type": "code",
   "execution_count": null,
   "id": "2651d32b",
   "metadata": {},
   "outputs": [],
   "source": [
    "conn = sqlConnection()\n",
    "cursor = conn.cursor()\n",
    "cursor.execute(\"\"\"\n",
    "CREATE TABLE `articles` (\n",
    "  `id` int(11) NOT NULL AUTO_INCREMENT,\n",
    "  `newspaper_issue_id` text DEFAULT NULL,\n",
    "  `page_number` text DEFAULT NULL,\n",
    "  `title` text DEFAULT NULL,\n",
    "  `content` text DEFAULT NULL,\n",
    "  `author` text DEFAULT NULL,\n",
    "  `date` text DEFAULT NULL,\n",
    "  `directory` text DEFAULT NULL,\n",
    "  `ocr_text` text DEFAULT NULL,\n",
    "  `llm_text` text DEFAULT NULL,\n",
    "  `ocr_method` text DEFAULT NULL,\n",
    "  `llm_method` text DEFAULT NULL,\n",
    "  `manual_correction_text` text DEFAULT NULL,\n",
    "  `font` text DEFAULT NULL,\n",
    "  `coordinates` text DEFAULT NULL,\n",
    "  `segmentation_method` varchar(255) DEFAULT NULL,\n",
    "  PRIMARY KEY (`id`),\n",
    "  UNIQUE KEY `id_UNIQUE` (`id`)\n",
    ") ENGINE=InnoDB AUTO_INCREMENT=14027 DEFAULT CHARSET=utf8mb3 COLLATE=utf8mb3_general_ci;\n",
    "\"\"\")"
   ]
  },
  {
   "cell_type": "code",
   "execution_count": null,
   "id": "15a65935",
   "metadata": {},
   "outputs": [],
   "source": [
    "cursor.execute(\"\"\"CREATE TABLE `newspapers` (\n",
    "  `id` int(11) NOT NULL AUTO_INCREMENT,\n",
    "  `title` text DEFAULT NULL,\n",
    "  `first_issue_date` text DEFAULT NULL,\n",
    "  `content` text DEFAULT NULL,\n",
    "  `fonts` text DEFAULT NULL,\n",
    "  `language` text DEFAULT NULL,\n",
    "  `directory` text DEFAULT NULL,\n",
    "  PRIMARY KEY (`id`)\n",
    ") ENGINE=InnoDB AUTO_INCREMENT=71 DEFAULT CHARSET=utf8mb3 COLLATE=utf8mb3_general_ci;\n",
    "\"\"\")"
   ]
  },
  {
   "cell_type": "code",
   "execution_count": null,
   "id": "3d4b287b",
   "metadata": {},
   "outputs": [],
   "source": [
    "cursor.execute(\"\"\"\n",
    "CREATE TABLE `newspaper_issues` (\n",
    "  `newspaper_id` text DEFAULT NULL,\n",
    "  `date` text DEFAULT NULL,\n",
    "  `number` text DEFAULT NULL,\n",
    "  `pages` text DEFAULT NULL,\n",
    "  `content` text DEFAULT NULL,\n",
    "  `directory` text DEFAULT NULL,\n",
    "  `id` int(11) NOT NULL AUTO_INCREMENT,\n",
    "  PRIMARY KEY (`id`)\n",
    ") ENGINE=InnoDB AUTO_INCREMENT=1289 DEFAULT CHARSET=utf8mb3 COLLATE=utf8mb3_general_ci;\n",
    "\"\"\")\n"
   ]
  },
  {
   "cell_type": "code",
   "execution_count": null,
   "id": "e59f01a0",
   "metadata": {},
   "outputs": [],
   "source": [
    "cursor.execute(\"\"\"\n",
    "CREATE TABLE `Layout_Parser` (\n",
    "  `id` int(11) NOT NULL AUTO_INCREMENT,\n",
    "  `coordinates` text NOT NULL,\n",
    "  `newspaper_issue_id` int(11) NOT NULL,\n",
    "  `page` int(11) DEFAULT NULL,\n",
    "  `processed` tinyint(1) DEFAULT 0,\n",
    "  PRIMARY KEY (`id`)\n",
    ") ENGINE=InnoDB AUTO_INCREMENT=32932 DEFAULT CHARSET=utf8mb3 COLLATE=utf8mb3_general_ci;\n",
    "\"\"\")\n"
   ]
  }
 ],
 "metadata": {
  "kernelspec": {
   "display_name": "base",
   "language": "python",
   "name": "python3"
  },
  "language_info": {
   "codemirror_mode": {
    "name": "ipython",
    "version": 3
   },
   "file_extension": ".py",
   "mimetype": "text/x-python",
   "name": "python",
   "nbconvert_exporter": "python",
   "pygments_lexer": "ipython3",
   "version": "3.12.7"
  }
 },
 "nbformat": 4,
 "nbformat_minor": 5
}
